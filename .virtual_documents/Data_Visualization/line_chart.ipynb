import pandas as pd
import matplotlib.pyplot as plt
%matplotlib inline
import seaborn as sns
pd.plotting.register_matplotlib_converters()
print('Setup Complete')


pd.read_csv('spotify.csv')


spotify_data = pd.read_csv('spotify.csv', index_col = 'Date', parse_dates = True)


spotify_data.head()


spotify_data.tail()


sns.lineplot(data = spotify_data)


# Set width and heigjt of figures
plt.figure(figsize =(14,6))

# Add Title
plt.title('Daily Global Streams of Popular Songs in 2017-2018')

sns.lineplot(data = spotify_data)


# Plot a subset of the data
list(spotify_data.columns)


plt.figure(figsize = (14,6))
plt.title('Daily Global Stream for Despacito and Humble')
sns.lineplot(data = spotify_data['Despacito'], label = 'Despacito')
sns.lineplot(data = spotify_data['HUMBLE.'], label = 'Henble')



